{
  "nbformat": 4,
  "nbformat_minor": 0,
  "metadata": {
    "colab": {
      "provenance": [],
      "authorship_tag": "ABX9TyMZBxWOxZU2nwc0l5/nsSLQ",
      "include_colab_link": true
    },
    "kernelspec": {
      "name": "python3",
      "display_name": "Python 3"
    },
    "language_info": {
      "name": "python"
    }
  },
  "cells": [
    {
      "cell_type": "markdown",
      "metadata": {
        "id": "view-in-github",
        "colab_type": "text"
      },
      "source": [
        "<a href=\"https://colab.research.google.com/github/Vynn0/DAA_2/blob/main/DAA_2.ipynb\" target=\"_parent\"><img src=\"https://colab.research.google.com/assets/colab-badge.svg\" alt=\"Open In Colab\"/></a>"
      ]
    },
    {
      "cell_type": "markdown",
      "source": [
        "Numpy Version Check"
      ],
      "metadata": {
        "id": "6EhjMnHAn4jS"
      }
    },
    {
      "cell_type": "code",
      "execution_count": null,
      "metadata": {
        "id": "uIl3LMbYnxDV"
      },
      "outputs": [],
      "source": [
        "import numpy as np\n",
        "\n",
        "print(np.__version__)\n",
        "\n",
        "nilai_siswa = np.array([85, 55, 40, 90])\n",
        "print(nilai_siswa[3])"
      ]
    },
    {
      "cell_type": "markdown",
      "source": [
        "Array addition"
      ],
      "metadata": {
        "id": "yqiYNp9OoABR"
      }
    },
    {
      "cell_type": "code",
      "source": [
        "def add(list_a, list_b):\n",
        "    result = []\n",
        "    for first, second, in zip(list_a, list_b):\n",
        "        result.append(first + second)\n",
        "    return result\n",
        "\n",
        "a = [1, 2, 3]\n",
        "b = [4, 5, 6]\n",
        "\n",
        "result = add(a,b)\n",
        "print(result)"
      ],
      "metadata": {
        "colab": {
          "base_uri": "https://localhost:8080/"
        },
        "id": "8dDf0xiRoB6O",
        "outputId": "349ba46f-4eff-46a1-b372-4163dff35ddf"
      },
      "execution_count": null,
      "outputs": [
        {
          "output_type": "stream",
          "name": "stdout",
          "text": [
            "[5, 7, 9]\n"
          ]
        }
      ]
    },
    {
      "cell_type": "markdown",
      "source": [
        "Print nama dan NIM"
      ],
      "metadata": {
        "id": "i2UKOrEIoOAC"
      }
    },
    {
      "cell_type": "code",
      "source": [
        "print(\"Hello, World!\")\n",
        "print(\"Nama saya (Halvino Iqbal)\")\n",
        "print(\"NIM saya (2022071019)\")"
      ],
      "metadata": {
        "id": "9icjE8_7oOLT"
      },
      "execution_count": null,
      "outputs": []
    },
    {
      "cell_type": "markdown",
      "source": [
        "If statement"
      ],
      "metadata": {
        "id": "m1cSOQwAokFn"
      }
    },
    {
      "cell_type": "code",
      "source": [
        "if 5>2:\n",
        "    print(\"Five is greater than two!\")"
      ],
      "metadata": {
        "id": "TyMUXJCWokRw"
      },
      "execution_count": null,
      "outputs": []
    },
    {
      "cell_type": "markdown",
      "source": [
        "John print"
      ],
      "metadata": {
        "id": "RXKh5J0Uonyx"
      }
    },
    {
      "cell_type": "code",
      "source": [
        "x = 5\n",
        "y = \"John\"\n",
        "print(x)\n",
        "print(y)"
      ],
      "metadata": {
        "colab": {
          "base_uri": "https://localhost:8080/"
        },
        "id": "YN8BKuaNon45",
        "outputId": "b51c897b-0967-4419-cf9d-d806b2858df6"
      },
      "execution_count": null,
      "outputs": [
        {
          "output_type": "stream",
          "name": "stdout",
          "text": [
            "5\n",
            "John\n"
          ]
        }
      ]
    },
    {
      "cell_type": "markdown",
      "source": [
        "Print replacement"
      ],
      "metadata": {
        "id": "GsqLenSBosKG"
      }
    },
    {
      "cell_type": "code",
      "source": [
        "x = 4\n",
        "x = \"Sally\"\n",
        "print(x)"
      ],
      "metadata": {
        "colab": {
          "base_uri": "https://localhost:8080/"
        },
        "id": "bXucjzcSosbb",
        "outputId": "821071a7-78a3-4a40-d15e-2b16fd9e0975"
      },
      "execution_count": null,
      "outputs": [
        {
          "output_type": "stream",
          "name": "stdout",
          "text": [
            "Sally\n"
          ]
        }
      ]
    },
    {
      "cell_type": "markdown",
      "source": [
        "getFirst of the array list function"
      ],
      "metadata": {
        "id": "Cc98s2zFovsP"
      }
    },
    {
      "cell_type": "code",
      "source": [
        "# def getFirst(myList): # Alternative with input\n",
        "#     i = int(input(\"Which index? \"))\n",
        "#     return myList[i]\n",
        "\n",
        "def getFirst(myList):\n",
        "    return myList[0]\n",
        "\n",
        "print(getFirst([1,2,3]))"
      ],
      "metadata": {
        "id": "KY-6xcfjov3g"
      },
      "execution_count": null,
      "outputs": []
    },
    {
      "cell_type": "markdown",
      "source": [
        "getLast of the array list function"
      ],
      "metadata": {
        "id": "u73GVM52pd87"
      }
    },
    {
      "cell_type": "code",
      "source": [
        "def getLast(myList):\n",
        "    return myList[len(myList) - 1]\n",
        "\n",
        "print(getLast([1,2,3,4,5]))"
      ],
      "metadata": {
        "id": "oeGN7TnopeH1"
      },
      "execution_count": null,
      "outputs": []
    },
    {
      "cell_type": "markdown",
      "source": [
        "getSum function of a certain integers within a list or array"
      ],
      "metadata": {
        "id": "qfm4JXM-piIs"
      }
    },
    {
      "cell_type": "code",
      "source": [
        "def getSum(myList):\n",
        "    sum = 0\n",
        "    for item in myList:\n",
        "        sum = sum + item\n",
        "    return sum\n",
        "\n",
        "print(getSum([1,2,3,4]))\n",
        "print(getSum([7, 3, 5, 11, 8, 10]))\n",
        "print(getSum([-2, 4, 5, -7, 9, 4, 5]))"
      ],
      "metadata": {
        "id": "FNjyAreEpiO8"
      },
      "execution_count": null,
      "outputs": []
    },
    {
      "cell_type": "markdown",
      "source": [
        "getKali (multiplication) function of a certain integers within a list or array"
      ],
      "metadata": {
        "id": "wcIA9Ht3puRI"
      }
    },
    {
      "cell_type": "code",
      "source": [
        "def getKali(myList):\n",
        "    multiply = 1 # 1 because 0 will be 0\n",
        "    for item in myList:\n",
        "        multiply = multiply * item\n",
        "    return multiply\n",
        "\n",
        "print(getKali([1,2,3,4]))\n",
        "print(getKali([7, 3, 5, 11, 8, 10]))\n",
        "print(getKali([-2, 4, 5, -7, 9, 4, 5]))"
      ],
      "metadata": {
        "colab": {
          "base_uri": "https://localhost:8080/"
        },
        "id": "kNTL0n0rpuaz",
        "outputId": "dfbcbc8b-c9e8-4fde-de08-7d4036c5748e"
      },
      "execution_count": null,
      "outputs": [
        {
          "output_type": "stream",
          "name": "stdout",
          "text": [
            "24\n",
            "92400\n",
            "50400\n"
          ]
        }
      ]
    },
    {
      "cell_type": "markdown",
      "source": [
        "getBagi (division) function of a certain integers within a list or array"
      ],
      "metadata": {
        "id": "ZUenX_bwqGVq"
      }
    },
    {
      "cell_type": "code",
      "source": [
        "def getBagi(myList):\n",
        "    div = 1\n",
        "    for item in myList:\n",
        "        div = item / div\n",
        "    return div\n",
        "\n",
        "print(getBagi([1,2,3,4]))"
      ],
      "metadata": {
        "id": "hEzDJO9CqGdm"
      },
      "execution_count": null,
      "outputs": []
    },
    {
      "cell_type": "markdown",
      "source": [
        "average function within a list or array"
      ],
      "metadata": {
        "id": "IwHcxusWqL11"
      }
    },
    {
      "cell_type": "code",
      "source": [
        "def avg(myList):\n",
        "    sum = 0\n",
        "    for item in myList:\n",
        "        sum = sum + item\n",
        "    return sum / len(myList)\n",
        "\n",
        "print(f\"Hasil rata-rata: {avg([1,2,3,4])}\")"
      ],
      "metadata": {
        "id": "e3yH1hTPqL9e"
      },
      "execution_count": null,
      "outputs": []
    },
    {
      "cell_type": "markdown",
      "source": [
        "division of a sum of different variable"
      ],
      "metadata": {
        "id": "PcTvFwpCqS_R"
      }
    },
    {
      "cell_type": "code",
      "source": [
        "def getSum(myList):\n",
        "    sum = 0\n",
        "    for item in myList:\n",
        "        sum = sum + item\n",
        "    return sum\n",
        "\n",
        "a = getSum([1,2,3,4])\n",
        "b = getSum([5,6,7,8])\n",
        "result = a / b\n",
        "\n",
        "print(f\"Hasil pembagian total a dengan total b: {result}\")"
      ],
      "metadata": {
        "id": "Bt1B9uToqTFg"
      },
      "execution_count": null,
      "outputs": []
    },
    {
      "cell_type": "markdown",
      "source": [
        "substraction of a sum of different variable"
      ],
      "metadata": {
        "id": "Dsiua5n9qZ0X"
      }
    },
    {
      "cell_type": "code",
      "source": [
        "def getSum(myList):\n",
        "    sum = 0\n",
        "    for item in myList:\n",
        "        sum = sum + item\n",
        "    return sum\n",
        "\n",
        "a = getSum([1,2,3,4])\n",
        "b = getSum([5,6,7,8])\n",
        "resultB = a - b\n",
        "\n",
        "print(f\"Hasil pengurangan total a dengan total b: {resultB}\")"
      ],
      "metadata": {
        "id": "xEqM-gWEqZ-_"
      },
      "execution_count": null,
      "outputs": []
    },
    {
      "cell_type": "markdown",
      "source": [
        "division of a sum of two or more different array/list"
      ],
      "metadata": {
        "id": "DMSe4RKfqmxa"
      }
    },
    {
      "cell_type": "code",
      "source": [
        "def getSum(myList):\n",
        "    sum = 0\n",
        "    for item in myList:\n",
        "        sum = sum + item\n",
        "    return sum\n",
        "\n",
        "def getBagi(a,b):\n",
        "    sum_A = getSum(a)\n",
        "    sum_B = getSum(b)\n",
        "    result = sum_A / sum_B\n",
        "    return result\n",
        "\n",
        "value = getBagi([1,2,3,4,5], [6,7,8,9,10])\n",
        "print(value)"
      ],
      "metadata": {
        "id": "35fofyNcqm36"
      },
      "execution_count": null,
      "outputs": []
    },
    {
      "cell_type": "markdown",
      "source": [
        "substraction of a sum of two or more different array/list"
      ],
      "metadata": {
        "id": "PUQNZ7C0qwZS"
      }
    },
    {
      "cell_type": "code",
      "source": [
        "def getSum(myList):\n",
        "    sum = 0\n",
        "    for item in myList:\n",
        "        sum = sum + item\n",
        "    return sum\n",
        "\n",
        "def getKurang(a,b):\n",
        "    sum_A = getSum(a)\n",
        "    sum_B = getSum(b)\n",
        "    result = sum_A - sum_B\n",
        "    return result\n",
        "\n",
        "value = getKurang([1,2,3,4,5], [6,7,8,9,10])\n",
        "print(value)"
      ],
      "metadata": {
        "id": "Ui2biOEjqwhO"
      },
      "execution_count": null,
      "outputs": []
    }
  ]
}